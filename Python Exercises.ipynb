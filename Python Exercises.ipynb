{
 "cells": [
  {
   "cell_type": "markdown",
   "id": "1b3d6a26",
   "metadata": {},
   "source": [
    "# Python Exercises"
   ]
  },
  {
   "cell_type": "markdown",
   "id": "f21d34de",
   "metadata": {},
   "source": [
    "# 1. \n",
    "Given a year, determine whether it is a leap year. If it is a leap year, return the Boolean\n",
    "True, otherwise return False."
   ]
  },
  {
   "cell_type": "code",
   "execution_count": 2,
   "id": "63a100f8",
   "metadata": {},
   "outputs": [
    {
     "name": "stdout",
     "output_type": "stream",
     "text": [
      "Enter the year: 2018\n",
      "not leap year\n"
     ]
    }
   ],
   "source": [
    "year = int(input(\"Enter the year: \"))\n",
    "if (year % 400 ==0) or ((year % 4 == 0) and (year % 100 !=0)):\n",
    "    print(\"Leap year\")\n",
    "else:\n",
    "    print(\"not leap year\")"
   ]
  },
  {
   "cell_type": "markdown",
   "id": "9308c35d",
   "metadata": {},
   "source": [
    "# 2.\n",
    "Write a Python function that takes two lists of integers as input and returns a new list\n",
    "containing only the numbers that are present in both lists, but with each number\n",
    "appearing only once in the final list."
   ]
  },
  {
   "cell_type": "code",
   "execution_count": 3,
   "id": "0fa451ad",
   "metadata": {},
   "outputs": [
    {
     "name": "stdout",
     "output_type": "stream",
     "text": [
      "[[3, 4]]\n"
     ]
    }
   ],
   "source": [
    " using list comprehension \n",
    "def intersection(list1,list2):\n",
    "    return [list(set(list1).intersection(set(list2)))]\n",
    "\n",
    "list1 = [1,2,3,4]\n",
    "list2 = [3,4,5,6]\n",
    "result = intersection(list1,list2)\n",
    "print(result)"
   ]
  },
  {
   "cell_type": "markdown",
   "id": "541e4e2d",
   "metadata": {},
   "source": [
    "# 3.\n",
    "Write a Python program that takes a string as input and returns a dictionary where\n",
    "each key is a unique word in the string and the value is a list of the indices where that\n",
    "word appears in the string."
   ]
  },
  {
   "cell_type": "code",
   "execution_count": 4,
   "id": "dd221263",
   "metadata": {},
   "outputs": [
    {
     "name": "stdout",
     "output_type": "stream",
     "text": [
      "Enter a string:my name is ram is my name\n",
      "{'my': [0, 5], 'name': [1, 6], 'is': [2, 4], 'ram': [3]}\n"
     ]
    }
   ],
   "source": [
    "def returnDictionary(str):\n",
    "    str= str.lower()\n",
    "    words = str.split()\n",
    "    dictionary = {}\n",
    "    for i, word in enumerate(words):\n",
    "        if word not in dictionary:\n",
    "            dictionary[word] = [i]\n",
    "        else:\n",
    "            dictionary[word].append(i)\n",
    "    return dictionary\n",
    "\n",
    "text = input(\"Enter a string:\")\n",
    "result = returnDictionary(text)\n",
    "print(result)"
   ]
  },
  {
   "cell_type": "markdown",
   "id": "26e9d48f",
   "metadata": {},
   "source": [
    "\n",
    "# 4.\n",
    "Write a Python function that takes a list of integers as input and returns a new list with\n",
    "the elements sorted in descending order, but with all odd numbers appearing before\n",
    "all even numbers.\n"
   ]
  },
  {
   "cell_type": "code",
   "execution_count": 6,
   "id": "c5aa1df1",
   "metadata": {},
   "outputs": [
    {
     "name": "stdout",
     "output_type": "stream",
     "text": [
      "[1, 3, 5, 7, 9, 2, 4, 6, 8]\n"
     ]
    }
   ],
   "source": [
    "def sortedList(list):\n",
    "    odd = sorted(filter(lambda x: x % 2 != 0, list))\n",
    "    even = sorted(filter(lambda x: x % 2 == 0, list))\n",
    "\n",
    "    # list2 = sorted(list, key= lambda x: (x %2 == 0,x))\n",
    "    return odd+even\n",
    "\n",
    "list = [1,2,3,4,5,6,7,8,9]\n",
    "print(sortedList(list))"
   ]
  },
  {
   "cell_type": "markdown",
   "id": "3431395a",
   "metadata": {},
   "source": [
    "# 5.\n",
    "Write a Python program that takes two sets as input and returns a new set containing\n",
    "the elements that are in the first set but not in the second set, and the elements that\n",
    "are in the second set but not in the first set."
   ]
  },
  {
   "cell_type": "code",
   "execution_count": 7,
   "id": "01228fbe",
   "metadata": {},
   "outputs": [
    {
     "name": "stdout",
     "output_type": "stream",
     "text": [
      "{1, 2, 3, 6, 7, 8}\n"
     ]
    }
   ],
   "source": [
    "set1 = {1,2,3,4,5}\n",
    "set2 = {4,5,6,7,8}\n",
    "\n",
    "newset = set1.symmetric_difference(set2)\n",
    "print(newset)"
   ]
  },
  {
   "cell_type": "markdown",
   "id": "f353c7c8",
   "metadata": {},
   "source": [
    "# 6.\n",
    "Write a Python function that takes a list of strings as input and returns a new list\n",
    "containing only the strings that are palindromes."
   ]
  },
  {
   "cell_type": "code",
   "execution_count": 8,
   "id": "fb96f1c9",
   "metadata": {},
   "outputs": [
    {
     "name": "stdout",
     "output_type": "stream",
     "text": [
      "['aba', 'mom']\n"
     ]
    }
   ],
   "source": [
    "def palindromes(stringlist):\n",
    "    return [string for string in stringlist if string == string[::-1]]\n",
    "\n",
    "stringlist = [\"abc\",\"cdef\",\"aba\",\"mom\"]\n",
    "print(palindromes(stringlist))"
   ]
  },
  {
   "cell_type": "markdown",
   "id": "ae3c92f3",
   "metadata": {},
   "source": [
    "# 7.\n",
    "Write a Python program that takes a list of tuples, where each tuple contains a string\n",
    "and an integer, and returns a new list containing the tuples sorted by the length of the\n",
    "string, with ties broken by the value of the integer.\n"
   ]
  },
  {
   "cell_type": "code",
   "execution_count": 9,
   "id": "cec0b49b",
   "metadata": {},
   "outputs": [
    {
     "name": "stdout",
     "output_type": "stream",
     "text": [
      "[('ab', 2), ('abc', 1), ('abcde', 3)]\n"
     ]
    }
   ],
   "source": [
    "def sortTuples(tuplelist):\n",
    "    return sorted(tuplelist, key = lambda x : (len(x[0]), x[1]) )\n",
    "\n",
    "tuplelist = [(\"abc\",1),(\"ab\",2),(\"abcde\",3)]\n",
    "print(sortTuples(tuplelist))"
   ]
  },
  {
   "cell_type": "markdown",
   "id": "6de51d79",
   "metadata": {},
   "source": [
    "# 8.\n",
    "Write a Python function that takes a dictionary as input and returns a new dictionary\n",
    "where the keys are sorted alphabetically and the values are sorted in descending\n",
    "order."
   ]
  },
  {
   "cell_type": "code",
   "execution_count": 10,
   "id": "839d5d22",
   "metadata": {},
   "outputs": [
    {
     "name": "stdout",
     "output_type": "stream",
     "text": [
      "{'apple': 4, 'banana': 5, 'cherry': 1, 'mango': 2}\n"
     ]
    }
   ],
   "source": [
    "def sortingDictionary(d):\n",
    "    # return dict(sorted(d.items(), key= lambda x: (x[0], x[1]), reverse=False))\n",
    "    return dict(sorted(d.items(), key= lambda x: (x[0], -x[1])))\n",
    "\n",
    "\n",
    "d = {\"apple\":4,\"mango\":2,\"banana\":5,\"cherry\":1}\n",
    "print(sortingDictionary(d))"
   ]
  },
  {
   "cell_type": "markdown",
   "id": "21cefc08",
   "metadata": {},
   "source": [
    "# 9.\n",
    "Write a Python program that takes a list of tuples, where each tuple contains a string\n",
    "and a set of integers, and returns a new list containing the tuples sorted by the sum of\n",
    "the integers in the set, with ties broken by the length of the string."
   ]
  },
  {
   "cell_type": "code",
   "execution_count": 11,
   "id": "a8dd82b9",
   "metadata": {},
   "outputs": [
    {
     "name": "stdout",
     "output_type": "stream",
     "text": [
      "[('data', {1, 2, 3}), ('abc', {1, 2, 3}), ('gritfeat', {4, 5, 6})]\n"
     ]
    }
   ],
   "source": [
    "def sortingtuples(input):\n",
    "    return sorted(input, key= lambda x : (sum(x[1]), -len(x[0])))\n",
    "\n",
    "input = [(\"abc\",{1,2,3}),(\"data\",{1,2,3}),(\"gritfeat\",{4,5,6})]\n",
    "print(sortingtuples(input))"
   ]
  },
  {
   "cell_type": "markdown",
   "id": "d5b4c65b",
   "metadata": {},
   "source": [
    "# 10.\n",
    "Write a Python function that takes a string as input and returns a new string where\n",
    "each word in the string is replaced with the word that appears most frequently in the\n",
    "string.\n"
   ]
  },
  {
   "cell_type": "code",
   "execution_count": 13,
   "id": "667e875e",
   "metadata": {},
   "outputs": [
    {
     "name": "stdout",
     "output_type": "stream",
     "text": [
      "the the the the the the the the the\n"
     ]
    }
   ],
   "source": [
    "def frequentstring(inputstring):\n",
    "    words = inputstring.split()\n",
    "    count = {}\n",
    "\n",
    "    for word in words:\n",
    "        if word in count:\n",
    "            count[word] = +1\n",
    "        else:\n",
    "            count[word] = 1\n",
    "    \n",
    "    freq = max(count, key=count.get)\n",
    "\n",
    "    return \" \".join([freq] * len(words))\n",
    "\n",
    "inputstring = \"the quick brown fox jumps over the lazy dog\"\n",
    "print(frequentstring(inputstring))"
   ]
  },
  {
   "cell_type": "markdown",
   "id": "b789ed59",
   "metadata": {},
   "source": [
    "# 11.\n",
    "Write a Python program that takes a list of tuples, where each tuple contains a string\n",
    "and a list of integers, and returns a new list containing the tuples sorted by the median\n",
    "of the integers in the list, with ties broken by the length of the string."
   ]
  },
  {
   "cell_type": "code",
   "execution_count": 14,
   "id": "18cf6f15",
   "metadata": {},
   "outputs": [
    {
     "name": "stdout",
     "output_type": "stream",
     "text": [
      "[('abc', [1, 2, 3]), ('eva', [8, 1]), ('def', [10, 5, 2, 7]), ('xyz', [10, 1, 16, 13, 14])]\n"
     ]
    }
   ],
   "source": [
    "def sort_tuples_by_median(tuples_list):\n",
    "    def median_and_negative_length(t):\n",
    "        string, integers = t\n",
    "        median = sum(integers) / len(integers)\n",
    "        return median, -len(string)\n",
    "\n",
    "    sorted_tuples = sorted(tuples_list, key=median_and_negative_length)\n",
    "    return sorted_tuples\n",
    "\n",
    "\n",
    "tuples_list = [\n",
    "    (\"abc\", [1, 2, 3]),\n",
    "    (\"def\", [10, 5, 2, 7]),\n",
    "    (\"eva\", [8, 1]),\n",
    "    (\"xyz\", [10, 1, 16, 13, 14]),\n",
    "]\n",
    "\n",
    "sorted_list = sort_tuples_by_median(tuples_list)\n",
    "print(sorted_list)"
   ]
  },
  {
   "cell_type": "markdown",
   "id": "f2a7e4b7",
   "metadata": {},
   "source": [
    "# 12.\n",
    "Given an integer array nums, rotate the array to the right by k steps, where k is\n",
    "non-negative.\n",
    "For example nums = [1,2,3,4,5,6,7], k=3 should output [5,6,7,1,2,3,4]\n",
    "Do it with the least possible space. I.e O(1) space complexity."
   ]
  },
  {
   "cell_type": "code",
   "execution_count": 15,
   "id": "ef56fe4f",
   "metadata": {},
   "outputs": [
    {
     "name": "stdout",
     "output_type": "stream",
     "text": [
      "[4, 5, 1, 2, 3]\n"
     ]
    }
   ],
   "source": [
    "def rotate(arr,k):\n",
    "    k = k % len(arr) if k>len(arr) else k\n",
    "    arr[:] = arr[k:] + arr[:k]\n",
    "    return arr\n",
    "\n",
    "print(rotate([1,2,3,4,5],3))"
   ]
  },
  {
   "cell_type": "code",
   "execution_count": null,
   "id": "60e0f38d",
   "metadata": {},
   "outputs": [],
   "source": []
  }
 ],
 "metadata": {
  "kernelspec": {
   "display_name": "Python 3 (ipykernel)",
   "language": "python",
   "name": "python3"
  },
  "language_info": {
   "codemirror_mode": {
    "name": "ipython",
    "version": 3
   },
   "file_extension": ".py",
   "mimetype": "text/x-python",
   "name": "python",
   "nbconvert_exporter": "python",
   "pygments_lexer": "ipython3",
   "version": "3.9.13"
  }
 },
 "nbformat": 4,
 "nbformat_minor": 5
}
